{
 "cells": [
  {
   "cell_type": "code",
   "execution_count": 1,
   "id": "1d2dd1e3-0f46-44b0-a77d-016d9a734e55",
   "metadata": {},
   "outputs": [
    {
     "name": "stdout",
     "output_type": "stream",
     "text": [
      "[{'interest': 'PHP', 'userID': [0, 3, 4, 9, 17, 18, 19, 24, 29]}, {'interest': 'MySQL', 'userID': [0, 1]}, {'interest': 'Angular', 'userID': [0, 5, 7, 10, 12, 13, 14, 15, 16, 19, 29]}, {'interest': 'Python', 'userID': [2, 19, 20, 21, 22, 23]}, {'interest': 'Vuejs', 'userID': [6]}, {'interest': 'Big data', 'userID': [8, 27, 29]}, {'interest': 'NoSQL', 'userID': [10, 11, 25, 26, 28]}]\n"
     ]
    }
   ],
   "source": [
    "populations = [\n",
    "    { \"id\" : 0, \"name\" : \"Alan\" },\n",
    "    { \"id\" : 1, \"name\" : \"Albert\" },\n",
    "    { \"id\" : 2, \"name\" : \"Jhon\" },\n",
    "    { \"id\" : 3, \"name\" : \"Brice\" },\n",
    "    { \"id\" : 4, \"name\" : \"Alexendra\" },\n",
    "    { \"id\" : 5, \"name\" : \"Brad\" },\n",
    "    { \"id\" : 6, \"name\" : \"Carl\" },\n",
    "    { \"id\" : 7, \"name\" : \"Dallas\" },\n",
    "    { \"id\" : 8, \"name\" : \"Dennis\" },\n",
    "    { \"id\" : 9, \"name\" : \"Edgar\" },\n",
    "    { \"id\" : 10, \"name\" : \"Erika\" },\n",
    "    { \"id\" : 11, \"name\" : \"Isaac\" },\n",
    "    { \"id\" : 13, \"name\" : \"Brice\" },\n",
    "    { \"id\" : 14, \"name\" : \"Alice\" },\n",
    "    { \"id\" : 15, \"name\" : \"Sophia\" },\n",
    "    { \"id\" : 16, \"name\" : \"Rasmus\" },\n",
    "    { \"id\" : 18, \"name\" : \"Taylor\" },\n",
    "    { \"id\" : 19, \"name\" : \"Olivia\" },\n",
    "    { \"id\" : 20, \"name\" : \"Jessica\" },\n",
    "    { \"id\" : 21, \"name\" : \"Anna\" },\n",
    "    { \"id\" : 22, \"name\" : \"Samantha\" },\n",
    "    { \"id\" : 23, \"name\" : \"Grace\" },\n",
    "    { \"id\" : 24, \"name\" : \"Anna\" },\n",
    "    { \"id\" : 25, \"name\" : \"Alexis\" },\n",
    "    { \"id\" : 26, \"name\" : \"Madison\" },\n",
    "    { \"id\" : 27, \"name\" : \"Nicole\" },\n",
    "    { \"id\" : 28, \"name\" : \"Amanda\" },\n",
    "    { \"id\" : 29, \"name\" : \"Haley\" }  \n",
    "]\n",
    "\n",
    "centers = [\n",
    "    (0, 'PHP'), (0, 'MySQL'), (0, 'Angular'), (1, 'MySQL'), (2, 'Python'), (3, 'PHP'), (4, 'PHP'), \n",
    "    (5, 'Angular'), (6, 'Vuejs'), (7, 'Angular'), (8, 'Big data'), (9, 'PHP'), \n",
    "    (10, 'Angular'), (10, 'NoSQL'), (11, 'NoSQL'), (12, 'Angular'), (13, 'Angular'), (14, 'Angular'), \n",
    "    (15, 'Angular'), (16, 'Angular'), (17, 'PHP'), (18, 'PHP'), (19, 'PHP'), (19,'Angular'), (19, 'Python'),\n",
    "    (20, 'Python'), (21, 'Python'), (22, 'Python'), (23, 'Python'), (24, 'PHP'), \n",
    "    (25, 'NoSQL'), (26, 'NoSQL'), (27, 'Big data'), (28, 'NoSQL'), (29, 'Angular'), (29, 'PHP'), (29,'Big data')\n",
    "]\n",
    "\n",
    "# Ecrire une fonction qui retourne tous les utilisateurs qui partagent le même centre d'intérêt.\n",
    "def sameInterest():\n",
    "    sameInterest = []\n",
    "    for center in centers:\n",
    "        if center[1] not in [interest[\"interest\"] for interest in sameInterest]:\n",
    "            sameInterest.append({\"interest\": center[1], \"userID\": []})\n",
    "\n",
    "    \n",
    "    for interest in sameInterest:\n",
    "        for center in centers:\n",
    "            if interest[\"interest\"] == center[1]:\n",
    "                interest[\"userID\"].append(center[0])\n",
    "    return sameInterest\n",
    "\n",
    "print(sameInterest())"
   ]
  }
 ],
 "metadata": {
  "kernelspec": {
   "display_name": "Python 3 (ipykernel)",
   "language": "python",
   "name": "python3"
  },
  "language_info": {
   "codemirror_mode": {
    "name": "ipython",
    "version": 3
   },
   "file_extension": ".py",
   "mimetype": "text/x-python",
   "name": "python",
   "nbconvert_exporter": "python",
   "pygments_lexer": "ipython3",
   "version": "3.12.1"
  }
 },
 "nbformat": 4,
 "nbformat_minor": 5
}
