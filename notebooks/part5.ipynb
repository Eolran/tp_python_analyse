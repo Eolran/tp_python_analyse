{
 "cells": [
  {
   "cell_type": "code",
   "execution_count": 1,
   "id": "6cd9396a-dfc7-40a3-af02-597c51be8d8c",
   "metadata": {},
   "outputs": [
    {
     "name": "stdout",
     "output_type": "stream",
     "text": [
      "[8790, 8987, 7777, 9007]\n",
      "[{'Le': 1}, {'Python': 1}, {'BSD6': 1}, {'Windows': 1}, {'Unix': 1}, {'GNU/Linux': 1}, {'Android,': 1}, {'Java': 1}, {'Il': 1}]\n"
     ]
    }
   ],
   "source": [
    "# Créez une classe Parse, soit la chaîne de caractères suivantes, \n",
    "# utilisez les fonctions strip() et split() pour retournez une structure\n",
    "# comportant uniquement des numériques, vous testerez votre \n",
    "# méthode sur la chaîne suivante : \n",
    "phrase = '8790: bonjour le monde:8987:7777:Hello World:    9007' \n",
    "\n",
    "class Parser:\n",
    "    def __init__(self, parser, string):\n",
    "        self.string = string\n",
    "        self.parser = parser\n",
    "\n",
    "    def parse(self):\n",
    "        self.string = self.string.split(self.parser)\n",
    "\n",
    "        for i in range(len(self.string)):\n",
    "            self.string[i] = self.string[i].strip()\n",
    "\n",
    "        num = []\n",
    "        for i in range(len(self.string)):\n",
    "            if self.string[i].isnumeric():\n",
    "                num.append(int(self.string[i]))\n",
    "        return num\n",
    "    \n",
    "p = Parser(\":\", phrase).parse()\n",
    "\n",
    "print(p)\n",
    "\n",
    "# Ecrire une classe HasCap qui lorsqu'on renvoie tous les mots/particules \n",
    "# d'un texte t commençant par une majuscule dans un dictionnaire en comptant \n",
    "# le nombre d'occurence de ces mots/particules.\n",
    "\n",
    "phrase = \"Le langage Python est placé sous une licence libre proche de la licence BSD6 et fonctionne sur la plupart des plates-formes informatiques, des smartphones aux ordinateurs centraux7, de Windows à Unix avec notamment GNU/Linux en passant par macOS, ou encore Android, iOS, et peut aussi être traduit en Java ou .NET. Il est conçu pour optimiser la productivité des programmeurs en offrant des outils de haut niveau et une syntaxe simple à utiliser.\"\n",
    "\n",
    "class HasCap:\n",
    "    def __init__(self, string):\n",
    "        self.string = string\n",
    "\n",
    "    def hasCap(self):\n",
    "        words = []\n",
    "        self.string = self.string.split(\" \")\n",
    "        for word in self.string:\n",
    "            if word[0].isupper():\n",
    "                words.append({word: self.string.count(word)})\n",
    "        \n",
    "        return words\n",
    "    \n",
    "h = HasCap(phrase).hasCap()\n",
    "\n",
    "print(h)"
   ]
  }
 ],
 "metadata": {
  "kernelspec": {
   "display_name": "Python 3 (ipykernel)",
   "language": "python",
   "name": "python3"
  },
  "language_info": {
   "codemirror_mode": {
    "name": "ipython",
    "version": 3
   },
   "file_extension": ".py",
   "mimetype": "text/x-python",
   "name": "python",
   "nbconvert_exporter": "python",
   "pygments_lexer": "ipython3",
   "version": "3.12.1"
  }
 },
 "nbformat": 4,
 "nbformat_minor": 5
}
