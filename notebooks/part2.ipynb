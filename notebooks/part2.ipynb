{
 "cells": [
  {
   "cell_type": "code",
   "execution_count": 1,
   "id": "9c012973-4a76-4560-b1a2-b2c79743b5e5",
   "metadata": {},
   "outputs": [
    {
     "name": "stdout",
     "output_type": "stream",
     "text": [
      "[('Alan', 4), ('Albert', 2), ('Jhon', 3), ('Brice', 5), ('Alexendra', 7), ('Brad', 8), ('Carl', 2), ('Dallas', 6), ('Dennis', 4), ('Edgar', 3), ('Erika', 5), ('Isaac', 7), ('Ian', 5)]\n"
     ]
    }
   ],
   "source": [
    "# Soit les deux listes suivantes : students et levels ces deux listes sont de même longueur \n",
    "# et correspondent respectivement aux noms des étudiants et à leur niveau d'étude, à l'aide \n",
    "# de la fonction zip et d'une itération affichez le nom et le niveau de chaque étudiant.\n",
    "\n",
    "students = [\n",
    "    \"Alan\",\n",
    "    \"Albert\",\n",
    "    \"Jhon\",\n",
    "    \"Brice\",\n",
    "    \"Alexendra\",\n",
    "    \"Brad\",\n",
    "    \"Carl\",\n",
    "    \"Dallas\",\n",
    "    \"Dennis\",\n",
    "    \"Edgar\",\n",
    "    \"Erika\",\n",
    "    \"Isaac\",\n",
    "    \"Ian\" \n",
    "]\n",
    "\n",
    "levels = [4,2,3,5,7,8,2,6,4,3,5, 7, 5]\n",
    "\n",
    "def zipLevel():\n",
    "    zipList = list(zip(students, levels))\n",
    "    return zipList\n",
    "\n",
    "print(zipLevel())"
   ]
  }
 ],
 "metadata": {
  "kernelspec": {
   "display_name": "Python 3 (ipykernel)",
   "language": "python",
   "name": "python3"
  },
  "language_info": {
   "codemirror_mode": {
    "name": "ipython",
    "version": 3
   },
   "file_extension": ".py",
   "mimetype": "text/x-python",
   "name": "python",
   "nbconvert_exporter": "python",
   "pygments_lexer": "ipython3",
   "version": "3.12.1"
  }
 },
 "nbformat": 4,
 "nbformat_minor": 5
}
