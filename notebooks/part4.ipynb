{
 "cells": [
  {
   "cell_type": "code",
   "execution_count": null,
   "id": "1ac433b0-251e-4f01-8173-49e59bd02e88",
   "metadata": {},
   "outputs": [],
   "source": [
    "# Creez un model ( une classe ) pour enregistrer les données nettoyées, \n",
    "# que vous allez enregistrer dans une table ou un ficher.\n",
    "\n",
    "import part1\n",
    "import part2\n",
    "\n",
    "population = part1.friendsOfFriends()\n",
    "zipList = part2.zipLevel()\n",
    "\n",
    "class User:\n",
    "    def __init__(self, id, name, level, friends, friendsOfFriends):\n",
    "        self.id = int(id)\n",
    "        self.name = str(name)\n",
    "        self.level = int(level)\n",
    "        self.friends = friends\n",
    "        self.friendsOfFriends = friendsOfFriends\n",
    "\n",
    "    def __str__(self):\n",
    "        return f\"User {self.name} with id {self.id} is level {self.level} and has {len(self.friends)} friends and {len(self.friendsOfFriends)} friends of friends\"\n",
    "\n",
    "\n",
    "user1 = User(population[0][\"id\"], population[0][\"name\"], zipList[0][1], population[0][\"relation\"], population[0][\"friendsOfFriends\"])\n",
    "\n",
    "print(user1)\n",
    "# print return : User Alan with id 0 is level 4 and has 2 friends and 8 friends of friends"
   ]
  }
 ],
 "metadata": {
  "kernelspec": {
   "display_name": "Python 3 (ipykernel)",
   "language": "python",
   "name": "python3"
  },
  "language_info": {
   "codemirror_mode": {
    "name": "ipython",
    "version": 3
   },
   "file_extension": ".py",
   "mimetype": "text/x-python",
   "name": "python",
   "nbconvert_exporter": "python",
   "pygments_lexer": "ipython3",
   "version": "3.12.1"
  }
 },
 "nbformat": 4,
 "nbformat_minor": 5
}
